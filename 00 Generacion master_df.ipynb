{
 "cells": [
  {
   "cell_type": "code",
   "execution_count": 1,
   "id": "016e995a-ae1f-4f5f-8877-0821c004fa4d",
   "metadata": {},
   "outputs": [],
   "source": [
    "import yfinance as yf\n",
    "import numpy as np\n",
    "import pandas as pd\n",
    "import iisignature\n",
    "np.set_printoptions(suppress=True)"
   ]
  },
  {
   "cell_type": "code",
   "execution_count": 2,
   "id": "58b4ac6f-94f3-4876-80de-94647f5c8f60",
   "metadata": {},
   "outputs": [],
   "source": [
    "start_date = '2003-12-31'\n",
    "end_date = '2024-12-31'\n",
    "window_size = 50\n",
    "points_ticker = 30\n",
    "points_ref = 5\n",
    "signature_degree = 3\n",
    "ibex35_tickers = [\"ACS.MC\", \"ACX.MC\", \"AENA.MC\", \"AMS.MC\", \"ANA.MC\", \"ANE.MC\", \"BBVA.MC\", \"CABK.MC\", \"CLNX.MC\",\n",
    "                  \"COL.MC\", \"ELE.MC\", \"ENG.MC\", \"FDR.MC\", \"FER.MC\", \"GRF.MC\", \"IAG.MC\", \"IBE.MC\", \"IDR.MC\",\n",
    "                  \"ITX.MC\", \"LOG.MC\", \"MAP.MC\", \"MRL.MC\", \"MTS.MC\", \"NTGY.MC\", \"PUIG.MC\", \"RED.MC\", \"REP.MC\",\n",
    "                  \"ROVI.MC\", \"SAB.MC\", \"SAN.MC\", \"SCYR.MC\", \"SLR.MC\", \"TEF.MC\", \"UNI.MC\"]\n",
    "bankinter = \"BKT.MC\"  # Distorted data before mid 2005\n",
    "start_date_bankinter='2005-05-31'\n",
    "ref_tickers = ['SAN.MC', 'IBE.MC', 'ITX.MC']"
   ]
  },
  {
   "cell_type": "code",
   "execution_count": 3,
   "id": "0290d625-0eda-433d-83d0-abf12587309f",
   "metadata": {
    "scrolled": true
   },
   "outputs": [
    {
     "name": "stdout",
     "output_type": "stream",
     "text": [
      "YF.download() has changed argument auto_adjust default to True\n"
     ]
    },
    {
     "name": "stderr",
     "output_type": "stream",
     "text": [
      "[*********************100%***********************]  3 of 3 completed\n"
     ]
    }
   ],
   "source": [
    "ref_data = yf.download(ref_tickers, start=start_date, end=end_date)['Close'].pct_change().dropna()*100"
   ]
  },
  {
   "cell_type": "code",
   "execution_count": 4,
   "id": "614842ef-38e4-4cbe-85a0-e8b782836093",
   "metadata": {},
   "outputs": [
    {
     "name": "stdout",
     "output_type": "stream",
     "text": [
      "ACS.MC\n"
     ]
    },
    {
     "name": "stderr",
     "output_type": "stream",
     "text": [
      "[*********************100%***********************]  1 of 1 completed\n"
     ]
    },
    {
     "name": "stdout",
     "output_type": "stream",
     "text": [
      "ACX.MC\n"
     ]
    },
    {
     "name": "stderr",
     "output_type": "stream",
     "text": [
      "[*********************100%***********************]  1 of 1 completed\n",
      "[*********************100%***********************]  1 of 1 completed"
     ]
    },
    {
     "name": "stdout",
     "output_type": "stream",
     "text": [
      "AENA.MC\n"
     ]
    },
    {
     "name": "stderr",
     "output_type": "stream",
     "text": [
      "\n",
      "[*********************100%***********************]  1 of 1 completed"
     ]
    },
    {
     "name": "stdout",
     "output_type": "stream",
     "text": [
      "AMS.MC\n"
     ]
    },
    {
     "name": "stderr",
     "output_type": "stream",
     "text": [
      "\n"
     ]
    },
    {
     "name": "stdout",
     "output_type": "stream",
     "text": [
      "ANA.MC\n"
     ]
    },
    {
     "name": "stderr",
     "output_type": "stream",
     "text": [
      "[*********************100%***********************]  1 of 1 completed\n",
      "[*********************100%***********************]  1 of 1 completed"
     ]
    },
    {
     "name": "stdout",
     "output_type": "stream",
     "text": [
      "ANE.MC\n"
     ]
    },
    {
     "name": "stderr",
     "output_type": "stream",
     "text": [
      "\n"
     ]
    },
    {
     "name": "stdout",
     "output_type": "stream",
     "text": [
      "BBVA.MC\n"
     ]
    },
    {
     "name": "stderr",
     "output_type": "stream",
     "text": [
      "[*********************100%***********************]  1 of 1 completed\n"
     ]
    },
    {
     "name": "stdout",
     "output_type": "stream",
     "text": [
      "CABK.MC\n"
     ]
    },
    {
     "name": "stderr",
     "output_type": "stream",
     "text": [
      "[*********************100%***********************]  1 of 1 completed\n",
      "[*********************100%***********************]  1 of 1 completed"
     ]
    },
    {
     "name": "stdout",
     "output_type": "stream",
     "text": [
      "CLNX.MC\n"
     ]
    },
    {
     "name": "stderr",
     "output_type": "stream",
     "text": [
      "\n"
     ]
    },
    {
     "name": "stdout",
     "output_type": "stream",
     "text": [
      "COL.MC\n"
     ]
    },
    {
     "name": "stderr",
     "output_type": "stream",
     "text": [
      "[*********************100%***********************]  1 of 1 completed\n"
     ]
    },
    {
     "name": "stdout",
     "output_type": "stream",
     "text": [
      "ELE.MC\n"
     ]
    },
    {
     "name": "stderr",
     "output_type": "stream",
     "text": [
      "[*********************100%***********************]  1 of 1 completed\n"
     ]
    },
    {
     "name": "stdout",
     "output_type": "stream",
     "text": [
      "ENG.MC\n"
     ]
    },
    {
     "name": "stderr",
     "output_type": "stream",
     "text": [
      "[*********************100%***********************]  1 of 1 completed\n"
     ]
    },
    {
     "name": "stdout",
     "output_type": "stream",
     "text": [
      "FDR.MC\n"
     ]
    },
    {
     "name": "stderr",
     "output_type": "stream",
     "text": [
      "[*********************100%***********************]  1 of 1 completed\n"
     ]
    },
    {
     "name": "stdout",
     "output_type": "stream",
     "text": [
      "FER.MC\n"
     ]
    },
    {
     "name": "stderr",
     "output_type": "stream",
     "text": [
      "[*********************100%***********************]  1 of 1 completed\n"
     ]
    },
    {
     "name": "stdout",
     "output_type": "stream",
     "text": [
      "GRF.MC\n"
     ]
    },
    {
     "name": "stderr",
     "output_type": "stream",
     "text": [
      "[*********************100%***********************]  1 of 1 completed\n",
      "[*********************100%***********************]  1 of 1 completed"
     ]
    },
    {
     "name": "stdout",
     "output_type": "stream",
     "text": [
      "IAG.MC\n"
     ]
    },
    {
     "name": "stderr",
     "output_type": "stream",
     "text": [
      "\n",
      "[*********************100%***********************]  1 of 1 completed"
     ]
    },
    {
     "name": "stdout",
     "output_type": "stream",
     "text": [
      "IBE.MC\n"
     ]
    },
    {
     "name": "stderr",
     "output_type": "stream",
     "text": [
      "\n"
     ]
    },
    {
     "name": "stdout",
     "output_type": "stream",
     "text": [
      "IDR.MC\n"
     ]
    },
    {
     "name": "stderr",
     "output_type": "stream",
     "text": [
      "[*********************100%***********************]  1 of 1 completed\n",
      "[*********************100%***********************]  1 of 1 completed"
     ]
    },
    {
     "name": "stdout",
     "output_type": "stream",
     "text": [
      "ITX.MC\n"
     ]
    },
    {
     "name": "stderr",
     "output_type": "stream",
     "text": [
      "\n",
      "[*********************100%***********************]  1 of 1 completed"
     ]
    },
    {
     "name": "stdout",
     "output_type": "stream",
     "text": [
      "LOG.MC\n"
     ]
    },
    {
     "name": "stderr",
     "output_type": "stream",
     "text": [
      "\n"
     ]
    },
    {
     "name": "stdout",
     "output_type": "stream",
     "text": [
      "MAP.MC\n"
     ]
    },
    {
     "name": "stderr",
     "output_type": "stream",
     "text": [
      "[*********************100%***********************]  1 of 1 completed\n",
      "[*********************100%***********************]  1 of 1 completed"
     ]
    },
    {
     "name": "stdout",
     "output_type": "stream",
     "text": [
      "MRL.MC\n"
     ]
    },
    {
     "name": "stderr",
     "output_type": "stream",
     "text": [
      "\n"
     ]
    },
    {
     "name": "stdout",
     "output_type": "stream",
     "text": [
      "MTS.MC\n"
     ]
    },
    {
     "name": "stderr",
     "output_type": "stream",
     "text": [
      "[*********************100%***********************]  1 of 1 completed\n"
     ]
    },
    {
     "name": "stdout",
     "output_type": "stream",
     "text": [
      "NTGY.MC\n"
     ]
    },
    {
     "name": "stderr",
     "output_type": "stream",
     "text": [
      "[*********************100%***********************]  1 of 1 completed\n",
      "[*********************100%***********************]  1 of 1 completed"
     ]
    },
    {
     "name": "stdout",
     "output_type": "stream",
     "text": [
      "PUIG.MC\n",
      "RED.MC\n"
     ]
    },
    {
     "name": "stderr",
     "output_type": "stream",
     "text": [
      "\n",
      "[*********************100%***********************]  1 of 1 completed\n"
     ]
    },
    {
     "name": "stdout",
     "output_type": "stream",
     "text": [
      "REP.MC\n"
     ]
    },
    {
     "name": "stderr",
     "output_type": "stream",
     "text": [
      "[*********************100%***********************]  1 of 1 completed\n",
      "[*********************100%***********************]  1 of 1 completed"
     ]
    },
    {
     "name": "stdout",
     "output_type": "stream",
     "text": [
      "ROVI.MC\n"
     ]
    },
    {
     "name": "stderr",
     "output_type": "stream",
     "text": [
      "\n"
     ]
    },
    {
     "name": "stdout",
     "output_type": "stream",
     "text": [
      "SAB.MC\n"
     ]
    },
    {
     "name": "stderr",
     "output_type": "stream",
     "text": [
      "[*********************100%***********************]  1 of 1 completed\n",
      "[*********************100%***********************]  1 of 1 completed"
     ]
    },
    {
     "name": "stdout",
     "output_type": "stream",
     "text": [
      "SAN.MC\n"
     ]
    },
    {
     "name": "stderr",
     "output_type": "stream",
     "text": [
      "\n"
     ]
    },
    {
     "name": "stdout",
     "output_type": "stream",
     "text": [
      "SCYR.MC\n"
     ]
    },
    {
     "name": "stderr",
     "output_type": "stream",
     "text": [
      "[*********************100%***********************]  1 of 1 completed\n",
      "[*********************100%***********************]  1 of 1 completed"
     ]
    },
    {
     "name": "stdout",
     "output_type": "stream",
     "text": [
      "SLR.MC\n"
     ]
    },
    {
     "name": "stderr",
     "output_type": "stream",
     "text": [
      "\n"
     ]
    },
    {
     "name": "stdout",
     "output_type": "stream",
     "text": [
      "TEF.MC\n"
     ]
    },
    {
     "name": "stderr",
     "output_type": "stream",
     "text": [
      "[*********************100%***********************]  1 of 1 completed\n",
      "[*********************100%***********************]  1 of 1 completed"
     ]
    },
    {
     "name": "stdout",
     "output_type": "stream",
     "text": [
      "UNI.MC\n"
     ]
    },
    {
     "name": "stderr",
     "output_type": "stream",
     "text": [
      "\n"
     ]
    },
    {
     "name": "stdout",
     "output_type": "stream",
     "text": [
      "BKT.MC\n"
     ]
    },
    {
     "name": "stderr",
     "output_type": "stream",
     "text": [
      "[*********************100%***********************]  1 of 1 completed\n"
     ]
    }
   ],
   "source": [
    "master_df=pd.DataFrame()\n",
    "for ticker in ibex35_tickers:\n",
    "    print(ticker)\n",
    "    ticker_data = yf.download(ticker, start=start_date, end=end_date)['Close'].pct_change().dropna()*100\n",
    "    common_dates = ref_data.index.intersection(ticker_data.index)\n",
    "    ref_data_ticker = ref_data.loc[common_dates]\n",
    "    ticker_data = ticker_data.loc[common_dates]\n",
    "    data_signature=np.column_stack([ticker_data.to_numpy(), ref_data_ticker.to_numpy()])\n",
    "    rows=[]\n",
    "    for n in range(window_size, len(common_dates)):\n",
    "        path = data_signature[n-window_size:n]\n",
    "        signature=iisignature.sig(path, signature_degree)\n",
    "        levy_area=np.array([signature[5]-signature[8], signature[6]-signature[12], signature[7]-signature[16]])\n",
    "        signature_filtered=signature[np.r_[0:7,17:32]]\n",
    "        row = [ticker, \n",
    "           common_dates[n]] + \\\n",
    "          ticker_data.iloc[n-points_ticker:n].values.flatten().tolist() + \\\n",
    "          ref_data['SAN.MC'].iloc[n-points_ref:n].values.flatten().tolist() + \\\n",
    "          ref_data['IBE.MC'].iloc[n-points_ref:n].values.flatten().tolist() + \\\n",
    "          ref_data['ITX.MC'].iloc[n-points_ref:n].values.flatten().tolist() + \\\n",
    "          signature_filtered.tolist() + \\\n",
    "          levy_area.tolist() + \\\n",
    "          ticker_data.iloc[n].values.flatten().tolist()\n",
    "        rows.append(row)\n",
    "    iteration_df=pd.DataFrame(rows)\n",
    "    master_df=pd.concat([master_df, iteration_df], ignore_index=True)\n",
    "    \n",
    "print(bankinter)\n",
    "ticker_data=yf.download(bankinter, start=start_date_bankinter, end=end_date)['Close'].pct_change().dropna()*100\n",
    "common_dates = ref_data.index.intersection(ticker_data.index)\n",
    "ref_data_ticker = ref_data.loc[common_dates]\n",
    "ticker_data = ticker_data.loc[common_dates]\n",
    "data_signature=np.column_stack([ticker_data.to_numpy(), ref_data_ticker.to_numpy()])\n",
    "rows=[]\n",
    "for n in range(window_size, len(common_dates)):\n",
    "    path = data_signature[n-window_size:n]\n",
    "    signature=iisignature.sig(path, signature_degree)\n",
    "    levy_area=np.array([signature[5]-signature[8], signature[6]-signature[12], signature[7]-signature[16]])\n",
    "    signature_filtered=signature[np.r_[0:7,17:32]]\n",
    "    row = [bankinter, \n",
    "       common_dates[n]] + \\\n",
    "      ticker_data.iloc[n-points_ticker:n].values.flatten().tolist() + \\\n",
    "      ref_data['SAN.MC'].iloc[n-points_ref:n].values.flatten().tolist() + \\\n",
    "      ref_data['IBE.MC'].iloc[n-points_ref:n].values.flatten().tolist() + \\\n",
    "      ref_data['ITX.MC'].iloc[n-points_ref:n].values.flatten().tolist() + \\\n",
    "      signature_filtered.tolist() + \\\n",
    "      levy_area.tolist() + \\\n",
    "      ticker_data.iloc[n].values.flatten().tolist()\n",
    "    rows.append(row)\n",
    "iteration_df=pd.DataFrame(rows)\n",
    "master_df=pd.concat([master_df, iteration_df], ignore_index=True)\n",
    "\n",
    "\n",
    "columns = (\n",
    "        ['Ticker', 'Date'] +\n",
    "        [f'ticker_data_pre{points_ticker-i}' for i in range(points_ticker)] +\n",
    "        [f'SAN_pre{points_ref-i}' for i in range(points_ref)] +\n",
    "        [f'IBE_pre{points_ref-i}' for i in range(points_ref)] +\n",
    "        [f'ITX_pre{points_ref-i}' for i in range(points_ref)] +\n",
    "        [f'signature_{i}' for i in range(len(signature_filtered))] +\n",
    "        [f'levy_area_1{i}' for i in range(2,5)] +\n",
    "        [f'ticker_data_target']\n",
    "    )\n",
    "master_df.columns=columns"
   ]
  },
  {
   "cell_type": "code",
   "execution_count": 5,
   "id": "ca315072-d0f9-4e4d-b967-14ebb7ee0c1b",
   "metadata": {},
   "outputs": [],
   "source": [
    "master_df.to_csv('master_df.csv', index=False)"
   ]
  },
  {
   "cell_type": "code",
   "execution_count": 6,
   "id": "68a0ead8-d9fc-4e23-a153-b856d5e437cf",
   "metadata": {},
   "outputs": [],
   "source": [
    "master_df.head(5).to_csv('master_df_sample.csv', index=False)"
   ]
  }
 ],
 "metadata": {
  "kernelspec": {
   "display_name": "Python (dissertation3.8)",
   "language": "python",
   "name": "dissertation3.8"
  },
  "language_info": {
   "codemirror_mode": {
    "name": "ipython",
    "version": 3
   },
   "file_extension": ".py",
   "mimetype": "text/x-python",
   "name": "python",
   "nbconvert_exporter": "python",
   "pygments_lexer": "ipython3",
   "version": "3.8.20"
  }
 },
 "nbformat": 4,
 "nbformat_minor": 5
}
